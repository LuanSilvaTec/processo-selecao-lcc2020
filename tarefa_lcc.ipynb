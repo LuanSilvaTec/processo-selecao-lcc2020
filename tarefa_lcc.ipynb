{
  "nbformat": 4,
  "nbformat_minor": 0,
  "metadata": {
    "colab": {
      "name": "tarefa_lcc.ipynb",
      "provenance": [],
      "collapsed_sections": []
    },
    "kernelspec": {
      "name": "python3",
      "display_name": "Python 3"
    }
  },
  "cells": [
    {
      "cell_type": "code",
      "metadata": {
        "id": "yq5xZGdEiYSy",
        "colab_type": "code",
        "colab": {
          "base_uri": "https://localhost:8080/",
          "height": 34
        },
        "outputId": "5b8d3439-dfff-4c1e-b47d-81bd6a2dfd41"
      },
      "source": [
        "from google.colab import drive\n",
        "\n",
        "drive.mount('/content/gdrive')\n",
        "root_path = './gdrive/My Drive/Colab Notebooks/'"
      ],
      "execution_count": 1,
      "outputs": [
        {
          "output_type": "stream",
          "text": [
            "Drive already mounted at /content/gdrive; to attempt to forcibly remount, call drive.mount(\"/content/gdrive\", force_remount=True).\n"
          ],
          "name": "stdout"
        }
      ]
    },
    {
      "cell_type": "markdown",
      "metadata": {
        "id": "GF9NQV5_jdWs",
        "colab_type": "text"
      },
      "source": [
        "**Importação das bibliotecas necessárias**"
      ]
    },
    {
      "cell_type": "code",
      "metadata": {
        "id": "UhYiGzrkjhoz",
        "colab_type": "code",
        "colab": {
          "base_uri": "https://localhost:8080/",
          "height": 34
        },
        "outputId": "686511e5-c1ad-4d44-e807-c88e0d5d2c19"
      },
      "source": [
        "import pandas as pd\n",
        "from sklearn.model_selection import train_test_split\n",
        "from keras.layers import Dense, Convolution1D, MaxPool1D, Flatten, Dropout\n",
        "from keras.layers import Input\n",
        "from keras.models import Model\n",
        "from keras.layers.normalization import BatchNormalization\n",
        "import keras\n",
        "from keras.callbacks import EarlyStopping, ModelCheckpoint\n",
        "import numpy as np\n",
        "import matplotlib.pyplot as plt\n",
        "from sklearn.preprocessing import OneHotEncoder\n",
        "from sklearn.metrics import confusion_matrix,classification_report\n",
        "import itertools\n",
        "from keras.optimizers import Adam\n"
      ],
      "execution_count": 2,
      "outputs": [
        {
          "output_type": "stream",
          "text": [
            "Using TensorFlow backend.\n"
          ],
          "name": "stderr"
        }
      ]
    },
    {
      "cell_type": "markdown",
      "metadata": {
        "id": "SEaFCpZxjldi",
        "colab_type": "text"
      },
      "source": [
        "**Carregando os dados e suas respectivas labels**"
      ]
    },
    {
      "cell_type": "code",
      "metadata": {
        "id": "T-TqfDSQjtsv",
        "colab_type": "code",
        "colab": {
          "base_uri": "https://localhost:8080/",
          "height": 51
        },
        "outputId": "59a48744-3067-4b49-fa91-3bf5b88a65fc"
      },
      "source": [
        "#Base de dados completa\n",
        "data = pd.read_csv(root_path+'tarefa_lcc/bd/base_ecg.csv', header=None).values\n",
        "print(data.shape)\n",
        "\n",
        "#Labels\n",
        "labels= pd.read_csv(root_path+'tarefa_lcc/bd/labels_ecg.csv', header=None).values\n",
        "print(labels.shape)\n",
        "\n",
        "#Quantidade de exemplos por classe\n",
        "#print(labels[0].value_counts())"
      ],
      "execution_count": 3,
      "outputs": [
        {
          "output_type": "stream",
          "text": [
            "(1000, 1025)\n",
            "(1000, 1)\n"
          ],
          "name": "stdout"
        }
      ]
    },
    {
      "cell_type": "markdown",
      "metadata": {
        "id": "xIbmkBmIo3Pu",
        "colab_type": "text"
      },
      "source": [
        "**Criando os sub-datasets de treino e teste**"
      ]
    },
    {
      "cell_type": "code",
      "metadata": {
        "id": "IgpRqM3GpBfL",
        "colab_type": "code",
        "colab": {
          "base_uri": "https://localhost:8080/",
          "height": 170
        },
        "outputId": "8ba59a71-d0fe-441f-958e-cfa3534bcd23"
      },
      "source": [
        "X_train, X_test, y_train, y_test = train_test_split(data, labels, test_size=0.30, random_state=42)\n",
        "\n",
        "#Shape do dataset e labels de treino\n",
        "print(\"Shape do X do treino {}\".format(X_train.shape))\n",
        "print(\"Shape do Y do treino {}\".format(y_train.shape))\n",
        "print('---------------------------------------------------------')\n",
        "#Shape do dataset e labels de teste\n",
        "print(\"Shape do X do teste {}\".format(X_test.shape))\n",
        "print(\"Shape do Y do teste {}\".format(y_test.shape))\n",
        "\n",
        "#Adicionando outra dimensão\n",
        "X_train = X_train.reshape(len(X_train), X_train.shape[1],1)\n",
        "X_test = X_test.reshape(len(X_test), X_test.shape[1],1)\n",
        "\n",
        "print(\"Novo Shape do X do treino {}\".format(X_train.shape))\n",
        "print(\"Novo Shape do X do teste {}\".format(X_test.shape))\n",
        "\n",
        "#Transformando uma label em matriz de labels\n",
        "ohe = OneHotEncoder()\n",
        "y_train = ohe.fit_transform(y_train.reshape(-1,1))\n",
        "y_test = ohe.transform(y_test.reshape(-1,1))\n",
        "\n",
        "print(\"Novo Shape do Y do treino {}\".format(y_train.shape))\n",
        "print(\"Novo Shape do Y do teste {}\".format(y_test.shape))\n",
        "\n"
      ],
      "execution_count": 5,
      "outputs": [
        {
          "output_type": "stream",
          "text": [
            "Shape do X do treino (700, 1025)\n",
            "Shape do Y do treino (700, 1)\n",
            "---------------------------------------------------------\n",
            "Shape do X do teste (300, 1025)\n",
            "Shape do Y do teste (300, 1)\n",
            "Novo Shape do X do treino (700, 1025, 1)\n",
            "Novo Shape do X do teste (300, 1025, 1)\n",
            "Novo Shape do Y do treino (700, 17)\n",
            "Novo Shape do Y do teste (300, 17)\n"
          ],
          "name": "stdout"
        }
      ]
    },
    {
      "cell_type": "markdown",
      "metadata": {
        "id": "ZcBvkFZispXr",
        "colab_type": "text"
      },
      "source": [
        "**CNN - Convolutional Neural Network**\n",
        "\n",
        "---\n",
        "\n",
        "\n",
        "***Definição do modelo utilizado***"
      ]
    },
    {
      "cell_type": "markdown",
      "metadata": {
        "id": "PBc0QX4v7c4S",
        "colab_type": "text"
      },
      "source": [
        "Taxa de aprendizado"
      ]
    },
    {
      "cell_type": "code",
      "metadata": {
        "id": "3ULYUseXc-8P",
        "colab_type": "code",
        "colab": {}
      },
      "source": [
        "def lr_schedule(epoch):\n",
        "    \"\"\"Learning Rate Schedule\n",
        "\n",
        "    Learning rate is scheduled to be reduced after 80, 120, 160, 180 epochs.\n",
        "    Called automatically every epoch as part of callbacks during training.\n",
        "\n",
        "    # Arguments\n",
        "        epoch (int): The number of epochs\n",
        "\n",
        "    # Returns\n",
        "        lr (float32): learning rate\n",
        "    \"\"\"\n",
        "    lr = 1e-3\n",
        "    if epoch > 180:\n",
        "        lr *= 0.5e-3\n",
        "    elif epoch > 160:\n",
        "        lr *= 1e-3\n",
        "    elif epoch > 120:\n",
        "        lr *= 1e-2\n",
        "    elif epoch > 80:\n",
        "        lr *= 1e-1\n",
        "    print('Learning rate: ', lr)\n",
        "    return lr"
      ],
      "execution_count": 0,
      "outputs": []
    },
    {
      "cell_type": "code",
      "metadata": {
        "id": "b7PfVScRsuNA",
        "colab_type": "code",
        "colab": {}
      },
      "source": [
        "\n",
        "def network(X_train,y_train,X_test,y_test):\n",
        "    \n",
        "    im_shape=(X_train.shape[1],1)\n",
        "    \n",
        "    inputs_cnn=Input(shape=(im_shape), name='inputs_cnn')\n",
        "    conv1_1=Convolution1D(64, (6), activation='relu', input_shape=im_shape)(inputs_cnn)\n",
        "    conv1_1=BatchNormalization()(conv1_1)\n",
        "    pool1=MaxPool1D(pool_size=(3), strides=(2), padding=\"same\")(conv1_1)\n",
        "    \n",
        "    conv2_1=Convolution1D(64, (3), activation='relu', input_shape=im_shape)(pool1)\n",
        "    conv2_1=BatchNormalization()(conv2_1)\n",
        "    pool2=MaxPool1D(pool_size=(2), strides=(2), padding=\"same\")(conv2_1)\n",
        "    \n",
        "    conv3_1=Convolution1D(64, (3), activation='relu', input_shape=im_shape)(pool2)\n",
        "    conv3_1=BatchNormalization()(conv3_1)\n",
        "    pool3=MaxPool1D(pool_size=(2), strides=(2), padding=\"same\")(conv3_1)\n",
        "    \n",
        "    conv4_1=Convolution1D(64, (3), activation='relu', input_shape=im_shape)(pool3)\n",
        "    conv4_1=BatchNormalization()(conv4_1)\n",
        "    pool4=MaxPool1D(pool_size=(2), strides=(2), padding=\"same\")(conv4_1)\n",
        "    \n",
        "\n",
        "    flatten=Flatten()(pool4)\n",
        "    dense_end1 = Dense(64, activation='relu')(flatten)\n",
        "    dense_end2 = Dense(32, activation='relu')(dense_end1)\n",
        "    main_output = Dense(17, activation='softmax', name='main_output')(dense_end2)\n",
        "    \n",
        "    \n",
        "    model = Model(inputs= inputs_cnn, outputs=main_output)\n",
        "    model.compile(optimizer=Adam(lr=lr_schedule(0)), loss='categorical_crossentropy',metrics = ['accuracy'])\n",
        "    \n",
        "    \n",
        "\n",
        "    history=model.fit(X_train, y_train,epochs=150, batch_size=32,validation_data=(X_test,y_test))\n",
        "    return(model,history)"
      ],
      "execution_count": 0,
      "outputs": []
    },
    {
      "cell_type": "markdown",
      "metadata": {
        "id": "VcsAcep2tDZ-",
        "colab_type": "text"
      },
      "source": [
        "\n",
        "\n",
        "---\n",
        "Avaliação\n"
      ]
    },
    {
      "cell_type": "code",
      "metadata": {
        "id": "gtDz7DcNtG-X",
        "colab_type": "code",
        "colab": {}
      },
      "source": [
        "def evaluate_model(history,X_test,y_test,model):\n",
        "    scores = model.evaluate((X_test),y_test, verbose=0)\n",
        "    print(\"Accuracy: %.2f%%\" % (scores[1]*100))\n",
        "    \n",
        "    print(history)\n",
        "    fig1, ax_acc = plt.subplots()\n",
        "    plt.plot(history.history['accuracy'])\n",
        "    plt.plot(history.history['val_accuracy'])\n",
        "    plt.xlabel('Época')\n",
        "    plt.ylabel('Acurácia')\n",
        "    plt.title('Modelo - Acurácia')\n",
        "    plt.legend(['Treino', 'Teste'], loc='lower right')\n",
        "    #plt.show()\n",
        "    plt.savefig(root_path+\"/\"+\"tarefa_lcc/acuracia.png\", format='png')\n",
        "    \n",
        "    fig2, ax_loss = plt.subplots()\n",
        "    plt.xlabel('Época')\n",
        "    plt.ylabel('Loss')\n",
        "    plt.title('Modelo- Loss')\n",
        "    plt.legend(['Treino', 'Teste'], loc='upper right')\n",
        "    plt.plot(history.history['loss'])\n",
        "    plt.plot(history.history['val_loss'])\n",
        "    plt.show()\n",
        "    target_names=['1', '2', '3', '4', '5','6', '7', '8', '9', '10','11','12', '13', '14', '15', '16','17']\n",
        "    \n",
        "    y_true=[]\n",
        "    for element in y_test:\n",
        "        y_true.append(np.argmax(element))\n",
        "    prediction_proba=model.predict(X_test)\n",
        "    prediction=np.argmax(prediction_proba,axis=1)\n",
        "    cnf_matrix = confusion_matrix(y_true, prediction)"
      ],
      "execution_count": 0,
      "outputs": []
    },
    {
      "cell_type": "code",
      "metadata": {
        "id": "7LFIJYmqtSot",
        "colab_type": "code",
        "colab": {
          "base_uri": "https://localhost:8080/",
          "height": 1000
        },
        "outputId": "071774f0-fed7-470b-96fe-455bdad5932d"
      },
      "source": [
        "model,history=network(X_train,y_train,X_test,y_test)"
      ],
      "execution_count": 9,
      "outputs": [
        {
          "output_type": "stream",
          "text": [
            "Learning rate:  0.001\n",
            "Train on 700 samples, validate on 300 samples\n",
            "Epoch 1/150\n",
            "700/700 [==============================] - 5s 7ms/step - loss: 2.0498 - accuracy: 0.4029 - val_loss: 2.7692 - val_accuracy: 0.1367\n",
            "Epoch 2/150\n",
            "700/700 [==============================] - 4s 6ms/step - loss: 1.2493 - accuracy: 0.6571 - val_loss: 2.7032 - val_accuracy: 0.2800\n",
            "Epoch 3/150\n",
            "700/700 [==============================] - 4s 6ms/step - loss: 0.9180 - accuracy: 0.7300 - val_loss: 2.6538 - val_accuracy: 0.2800\n",
            "Epoch 4/150\n",
            "700/700 [==============================] - 4s 5ms/step - loss: 0.7187 - accuracy: 0.7857 - val_loss: 2.6209 - val_accuracy: 0.2800\n",
            "Epoch 5/150\n",
            "700/700 [==============================] - 4s 6ms/step - loss: 0.5862 - accuracy: 0.8414 - val_loss: 2.6323 - val_accuracy: 0.2800\n",
            "Epoch 6/150\n",
            "700/700 [==============================] - 4s 6ms/step - loss: 0.4147 - accuracy: 0.8900 - val_loss: 2.6673 - val_accuracy: 0.2800\n",
            "Epoch 7/150\n",
            "700/700 [==============================] - 4s 6ms/step - loss: 0.3425 - accuracy: 0.9057 - val_loss: 2.7055 - val_accuracy: 0.2800\n",
            "Epoch 8/150\n",
            "700/700 [==============================] - 4s 6ms/step - loss: 0.3047 - accuracy: 0.9129 - val_loss: 2.9041 - val_accuracy: 0.2800\n",
            "Epoch 9/150\n",
            "700/700 [==============================] - 4s 5ms/step - loss: 0.2215 - accuracy: 0.9443 - val_loss: 3.0191 - val_accuracy: 0.2800\n",
            "Epoch 10/150\n",
            "700/700 [==============================] - 4s 6ms/step - loss: 0.1645 - accuracy: 0.9557 - val_loss: 3.2338 - val_accuracy: 0.2800\n",
            "Epoch 11/150\n",
            "700/700 [==============================] - 4s 6ms/step - loss: 0.1229 - accuracy: 0.9657 - val_loss: 3.4335 - val_accuracy: 0.2800\n",
            "Epoch 12/150\n",
            "700/700 [==============================] - 4s 5ms/step - loss: 0.0865 - accuracy: 0.9843 - val_loss: 3.8542 - val_accuracy: 0.0167\n",
            "Epoch 13/150\n",
            "700/700 [==============================] - 4s 6ms/step - loss: 0.0635 - accuracy: 0.9900 - val_loss: 4.5519 - val_accuracy: 0.0100\n",
            "Epoch 14/150\n",
            "700/700 [==============================] - 4s 6ms/step - loss: 0.0435 - accuracy: 0.9929 - val_loss: 5.3483 - val_accuracy: 0.0100\n",
            "Epoch 15/150\n",
            "700/700 [==============================] - 4s 5ms/step - loss: 0.0285 - accuracy: 0.9943 - val_loss: 5.6368 - val_accuracy: 0.0100\n",
            "Epoch 16/150\n",
            "700/700 [==============================] - 4s 6ms/step - loss: 0.0226 - accuracy: 0.9971 - val_loss: 6.2576 - val_accuracy: 0.0100\n",
            "Epoch 17/150\n",
            "700/700 [==============================] - 4s 6ms/step - loss: 0.0234 - accuracy: 0.9914 - val_loss: 7.6063 - val_accuracy: 0.0100\n",
            "Epoch 18/150\n",
            "700/700 [==============================] - 4s 5ms/step - loss: 0.0498 - accuracy: 0.9886 - val_loss: 7.8294 - val_accuracy: 0.0100\n",
            "Epoch 19/150\n",
            "700/700 [==============================] - 4s 6ms/step - loss: 0.0687 - accuracy: 0.9800 - val_loss: 9.5327 - val_accuracy: 0.0100\n",
            "Epoch 20/150\n",
            "700/700 [==============================] - 4s 5ms/step - loss: 0.0505 - accuracy: 0.9871 - val_loss: 10.9938 - val_accuracy: 0.0100\n",
            "Epoch 21/150\n",
            "700/700 [==============================] - 4s 5ms/step - loss: 0.1233 - accuracy: 0.9586 - val_loss: 5.7182 - val_accuracy: 0.2800\n",
            "Epoch 22/150\n",
            "700/700 [==============================] - 4s 5ms/step - loss: 0.1307 - accuracy: 0.9586 - val_loss: 7.3008 - val_accuracy: 0.0367\n",
            "Epoch 23/150\n",
            "700/700 [==============================] - 4s 6ms/step - loss: 0.1301 - accuracy: 0.9614 - val_loss: 7.5631 - val_accuracy: 0.0300\n",
            "Epoch 24/150\n",
            "700/700 [==============================] - 4s 6ms/step - loss: 0.1123 - accuracy: 0.9614 - val_loss: 9.6987 - val_accuracy: 0.2767\n",
            "Epoch 25/150\n",
            "700/700 [==============================] - 4s 6ms/step - loss: 0.0961 - accuracy: 0.9700 - val_loss: 11.0433 - val_accuracy: 0.2800\n",
            "Epoch 26/150\n",
            "700/700 [==============================] - 4s 6ms/step - loss: 0.0741 - accuracy: 0.9757 - val_loss: 8.5039 - val_accuracy: 0.1033\n",
            "Epoch 27/150\n",
            "700/700 [==============================] - 4s 5ms/step - loss: 0.0235 - accuracy: 0.9943 - val_loss: 14.3051 - val_accuracy: 0.0300\n",
            "Epoch 28/150\n",
            "700/700 [==============================] - 4s 6ms/step - loss: 0.0110 - accuracy: 0.9971 - val_loss: 14.0795 - val_accuracy: 0.0300\n",
            "Epoch 29/150\n",
            "700/700 [==============================] - 4s 6ms/step - loss: 0.0109 - accuracy: 0.9957 - val_loss: 15.2528 - val_accuracy: 0.0300\n",
            "Epoch 30/150\n",
            "700/700 [==============================] - 4s 6ms/step - loss: 0.0128 - accuracy: 0.9971 - val_loss: 49.5096 - val_accuracy: 0.0167\n",
            "Epoch 31/150\n",
            "700/700 [==============================] - 4s 6ms/step - loss: 0.0208 - accuracy: 0.9986 - val_loss: 38.6719 - val_accuracy: 0.0233\n",
            "Epoch 32/150\n",
            "700/700 [==============================] - 4s 6ms/step - loss: 0.0042 - accuracy: 1.0000 - val_loss: 14.6518 - val_accuracy: 0.0300\n",
            "Epoch 33/150\n",
            "700/700 [==============================] - 4s 6ms/step - loss: 0.0068 - accuracy: 0.9971 - val_loss: 7.1493 - val_accuracy: 0.0433\n",
            "Epoch 34/150\n",
            "700/700 [==============================] - 4s 6ms/step - loss: 0.0081 - accuracy: 0.9986 - val_loss: 5.3388 - val_accuracy: 0.2300\n",
            "Epoch 35/150\n",
            "700/700 [==============================] - 4s 6ms/step - loss: 0.0057 - accuracy: 0.9986 - val_loss: 6.7229 - val_accuracy: 0.0867\n",
            "Epoch 36/150\n",
            "700/700 [==============================] - 4s 5ms/step - loss: 0.0120 - accuracy: 0.9986 - val_loss: 8.6739 - val_accuracy: 0.1767\n",
            "Epoch 37/150\n",
            "700/700 [==============================] - 4s 6ms/step - loss: 0.0023 - accuracy: 1.0000 - val_loss: 0.8657 - val_accuracy: 0.8233\n",
            "Epoch 38/150\n",
            "700/700 [==============================] - 4s 6ms/step - loss: 0.0011 - accuracy: 1.0000 - val_loss: 0.9740 - val_accuracy: 0.8000\n",
            "Epoch 39/150\n",
            "700/700 [==============================] - 4s 6ms/step - loss: 8.8531e-04 - accuracy: 1.0000 - val_loss: 0.8592 - val_accuracy: 0.8233\n",
            "Epoch 40/150\n",
            "700/700 [==============================] - 4s 6ms/step - loss: 7.3816e-04 - accuracy: 1.0000 - val_loss: 0.7574 - val_accuracy: 0.8567\n",
            "Epoch 41/150\n",
            "700/700 [==============================] - 4s 6ms/step - loss: 8.9914e-04 - accuracy: 1.0000 - val_loss: 1.2871 - val_accuracy: 0.7467\n",
            "Epoch 42/150\n",
            "700/700 [==============================] - 4s 6ms/step - loss: 7.9195e-04 - accuracy: 1.0000 - val_loss: 3.3177 - val_accuracy: 0.4600\n",
            "Epoch 43/150\n",
            "700/700 [==============================] - 4s 6ms/step - loss: 6.5844e-04 - accuracy: 1.0000 - val_loss: 2.5730 - val_accuracy: 0.5967\n",
            "Epoch 44/150\n",
            "700/700 [==============================] - 4s 6ms/step - loss: 7.9081e-04 - accuracy: 1.0000 - val_loss: 0.7051 - val_accuracy: 0.8700\n",
            "Epoch 45/150\n",
            "700/700 [==============================] - 4s 6ms/step - loss: 6.2051e-04 - accuracy: 1.0000 - val_loss: 1.1781 - val_accuracy: 0.7600\n",
            "Epoch 46/150\n",
            "700/700 [==============================] - 4s 6ms/step - loss: 5.1556e-04 - accuracy: 1.0000 - val_loss: 1.3049 - val_accuracy: 0.7200\n",
            "Epoch 47/150\n",
            "700/700 [==============================] - 4s 6ms/step - loss: 4.1872e-04 - accuracy: 1.0000 - val_loss: 1.3235 - val_accuracy: 0.7233\n",
            "Epoch 48/150\n",
            "700/700 [==============================] - 4s 6ms/step - loss: 4.7397e-04 - accuracy: 1.0000 - val_loss: 0.9717 - val_accuracy: 0.8000\n",
            "Epoch 49/150\n",
            "700/700 [==============================] - 4s 6ms/step - loss: 4.3602e-04 - accuracy: 1.0000 - val_loss: 1.0591 - val_accuracy: 0.7433\n",
            "Epoch 50/150\n",
            "700/700 [==============================] - 4s 6ms/step - loss: 3.9747e-04 - accuracy: 1.0000 - val_loss: 1.3587 - val_accuracy: 0.7033\n",
            "Epoch 51/150\n",
            "700/700 [==============================] - 4s 6ms/step - loss: 3.9654e-04 - accuracy: 1.0000 - val_loss: 1.5199 - val_accuracy: 0.6467\n",
            "Epoch 52/150\n",
            "700/700 [==============================] - 4s 6ms/step - loss: 4.0969e-04 - accuracy: 1.0000 - val_loss: 2.0789 - val_accuracy: 0.6100\n",
            "Epoch 53/150\n",
            "700/700 [==============================] - 4s 6ms/step - loss: 4.3955e-04 - accuracy: 1.0000 - val_loss: 1.1979 - val_accuracy: 0.7400\n",
            "Epoch 54/150\n",
            "700/700 [==============================] - 4s 6ms/step - loss: 3.2419e-04 - accuracy: 1.0000 - val_loss: 0.8908 - val_accuracy: 0.8100\n",
            "Epoch 55/150\n",
            "700/700 [==============================] - 4s 6ms/step - loss: 3.0152e-04 - accuracy: 1.0000 - val_loss: 0.7267 - val_accuracy: 0.8567\n",
            "Epoch 56/150\n",
            "700/700 [==============================] - 4s 6ms/step - loss: 3.6277e-04 - accuracy: 1.0000 - val_loss: 0.9738 - val_accuracy: 0.7867\n",
            "Epoch 57/150\n",
            "700/700 [==============================] - 4s 6ms/step - loss: 2.7661e-04 - accuracy: 1.0000 - val_loss: 1.2394 - val_accuracy: 0.7300\n",
            "Epoch 58/150\n",
            "700/700 [==============================] - 4s 6ms/step - loss: 3.2231e-04 - accuracy: 1.0000 - val_loss: 0.6753 - val_accuracy: 0.8733\n",
            "Epoch 59/150\n",
            "700/700 [==============================] - 4s 6ms/step - loss: 2.7053e-04 - accuracy: 1.0000 - val_loss: 0.8037 - val_accuracy: 0.8467\n",
            "Epoch 60/150\n",
            "700/700 [==============================] - 4s 6ms/step - loss: 2.3769e-04 - accuracy: 1.0000 - val_loss: 1.2918 - val_accuracy: 0.7467\n",
            "Epoch 61/150\n",
            "700/700 [==============================] - 4s 6ms/step - loss: 2.5248e-04 - accuracy: 1.0000 - val_loss: 1.0561 - val_accuracy: 0.8167\n",
            "Epoch 62/150\n",
            "700/700 [==============================] - 4s 5ms/step - loss: 2.6196e-04 - accuracy: 1.0000 - val_loss: 0.7583 - val_accuracy: 0.8500\n",
            "Epoch 63/150\n",
            "700/700 [==============================] - 4s 6ms/step - loss: 2.6127e-04 - accuracy: 1.0000 - val_loss: 0.6131 - val_accuracy: 0.8933\n",
            "Epoch 64/150\n",
            "700/700 [==============================] - 4s 6ms/step - loss: 2.2758e-04 - accuracy: 1.0000 - val_loss: 0.6741 - val_accuracy: 0.8767\n",
            "Epoch 65/150\n",
            "700/700 [==============================] - 4s 6ms/step - loss: 2.2324e-04 - accuracy: 1.0000 - val_loss: 0.6659 - val_accuracy: 0.8733\n",
            "Epoch 66/150\n",
            "700/700 [==============================] - 4s 6ms/step - loss: 2.6362e-04 - accuracy: 1.0000 - val_loss: 0.8555 - val_accuracy: 0.8467\n",
            "Epoch 67/150\n",
            "700/700 [==============================] - 4s 6ms/step - loss: 2.1160e-04 - accuracy: 1.0000 - val_loss: 0.7844 - val_accuracy: 0.8667\n",
            "Epoch 68/150\n",
            "700/700 [==============================] - 4s 6ms/step - loss: 1.7780e-04 - accuracy: 1.0000 - val_loss: 0.6664 - val_accuracy: 0.8900\n",
            "Epoch 69/150\n",
            "700/700 [==============================] - 4s 6ms/step - loss: 1.7097e-04 - accuracy: 1.0000 - val_loss: 0.6717 - val_accuracy: 0.8833\n",
            "Epoch 70/150\n",
            "700/700 [==============================] - 4s 6ms/step - loss: 1.7184e-04 - accuracy: 1.0000 - val_loss: 0.6552 - val_accuracy: 0.8833\n",
            "Epoch 71/150\n",
            "700/700 [==============================] - 4s 6ms/step - loss: 1.6557e-04 - accuracy: 1.0000 - val_loss: 0.6981 - val_accuracy: 0.8633\n",
            "Epoch 72/150\n",
            "700/700 [==============================] - 4s 6ms/step - loss: 1.7877e-04 - accuracy: 1.0000 - val_loss: 0.8163 - val_accuracy: 0.8500\n",
            "Epoch 73/150\n",
            "700/700 [==============================] - 4s 6ms/step - loss: 1.7227e-04 - accuracy: 1.0000 - val_loss: 0.8182 - val_accuracy: 0.8433\n",
            "Epoch 74/150\n",
            "700/700 [==============================] - 4s 6ms/step - loss: 1.6119e-04 - accuracy: 1.0000 - val_loss: 0.7823 - val_accuracy: 0.8533\n",
            "Epoch 75/150\n",
            "700/700 [==============================] - 4s 6ms/step - loss: 1.7084e-04 - accuracy: 1.0000 - val_loss: 0.9824 - val_accuracy: 0.8300\n",
            "Epoch 76/150\n",
            "700/700 [==============================] - 4s 6ms/step - loss: 1.7148e-04 - accuracy: 1.0000 - val_loss: 0.8650 - val_accuracy: 0.8400\n",
            "Epoch 77/150\n",
            "700/700 [==============================] - 4s 6ms/step - loss: 1.3930e-04 - accuracy: 1.0000 - val_loss: 0.7223 - val_accuracy: 0.8667\n",
            "Epoch 78/150\n",
            "700/700 [==============================] - 4s 6ms/step - loss: 1.7042e-04 - accuracy: 1.0000 - val_loss: 0.7252 - val_accuracy: 0.8667\n",
            "Epoch 79/150\n",
            "700/700 [==============================] - 4s 6ms/step - loss: 1.5346e-04 - accuracy: 1.0000 - val_loss: 0.8978 - val_accuracy: 0.8333\n",
            "Epoch 80/150\n",
            "700/700 [==============================] - 4s 6ms/step - loss: 1.2352e-04 - accuracy: 1.0000 - val_loss: 0.9077 - val_accuracy: 0.8300\n",
            "Epoch 81/150\n",
            "700/700 [==============================] - 4s 6ms/step - loss: 1.5262e-04 - accuracy: 1.0000 - val_loss: 0.6780 - val_accuracy: 0.8767\n",
            "Epoch 82/150\n",
            "700/700 [==============================] - 4s 6ms/step - loss: 1.2786e-04 - accuracy: 1.0000 - val_loss: 0.7021 - val_accuracy: 0.8667\n",
            "Epoch 83/150\n",
            "700/700 [==============================] - 4s 6ms/step - loss: 1.4589e-04 - accuracy: 1.0000 - val_loss: 0.6266 - val_accuracy: 0.9133\n",
            "Epoch 84/150\n",
            "700/700 [==============================] - 4s 6ms/step - loss: 1.4748e-04 - accuracy: 1.0000 - val_loss: 0.6357 - val_accuracy: 0.9000\n",
            "Epoch 85/150\n",
            "700/700 [==============================] - 4s 6ms/step - loss: 1.5641e-04 - accuracy: 1.0000 - val_loss: 0.7637 - val_accuracy: 0.8567\n",
            "Epoch 86/150\n",
            "700/700 [==============================] - 4s 6ms/step - loss: 1.3952e-04 - accuracy: 1.0000 - val_loss: 0.9800 - val_accuracy: 0.8233\n",
            "Epoch 87/150\n",
            "700/700 [==============================] - 4s 6ms/step - loss: 1.1326e-04 - accuracy: 1.0000 - val_loss: 1.0173 - val_accuracy: 0.8100\n",
            "Epoch 88/150\n",
            "700/700 [==============================] - 4s 6ms/step - loss: 2.4107e-04 - accuracy: 1.0000 - val_loss: 14.5029 - val_accuracy: 0.0700\n",
            "Epoch 89/150\n",
            "700/700 [==============================] - 4s 6ms/step - loss: 3.0780e-04 - accuracy: 1.0000 - val_loss: 38.9299 - val_accuracy: 0.0200\n",
            "Epoch 90/150\n",
            "700/700 [==============================] - 4s 6ms/step - loss: 1.3496e-04 - accuracy: 1.0000 - val_loss: 35.0803 - val_accuracy: 0.0200\n",
            "Epoch 91/150\n",
            "700/700 [==============================] - 4s 6ms/step - loss: 1.3456e-04 - accuracy: 1.0000 - val_loss: 24.0011 - val_accuracy: 0.0300\n",
            "Epoch 92/150\n",
            "700/700 [==============================] - 4s 6ms/step - loss: 1.1644e-04 - accuracy: 1.0000 - val_loss: 15.1817 - val_accuracy: 0.1000\n",
            "Epoch 93/150\n",
            "700/700 [==============================] - 4s 6ms/step - loss: 1.2212e-04 - accuracy: 1.0000 - val_loss: 10.3377 - val_accuracy: 0.2133\n",
            "Epoch 94/150\n",
            "700/700 [==============================] - 4s 6ms/step - loss: 1.2031e-04 - accuracy: 1.0000 - val_loss: 6.3347 - val_accuracy: 0.3533\n",
            "Epoch 95/150\n",
            "700/700 [==============================] - 4s 6ms/step - loss: 1.1840e-04 - accuracy: 1.0000 - val_loss: 2.2830 - val_accuracy: 0.5733\n",
            "Epoch 96/150\n",
            "700/700 [==============================] - 4s 6ms/step - loss: 1.1087e-04 - accuracy: 1.0000 - val_loss: 3.1243 - val_accuracy: 0.5367\n",
            "Epoch 97/150\n",
            "700/700 [==============================] - 4s 6ms/step - loss: 1.0542e-04 - accuracy: 1.0000 - val_loss: 1.5014 - val_accuracy: 0.7033\n",
            "Epoch 98/150\n",
            "700/700 [==============================] - 4s 6ms/step - loss: 9.5043e-05 - accuracy: 1.0000 - val_loss: 1.0576 - val_accuracy: 0.8233\n",
            "Epoch 99/150\n",
            "700/700 [==============================] - 4s 6ms/step - loss: 8.4378e-05 - accuracy: 1.0000 - val_loss: 0.9218 - val_accuracy: 0.8333\n",
            "Epoch 100/150\n",
            "700/700 [==============================] - 4s 6ms/step - loss: 1.1961e-04 - accuracy: 1.0000 - val_loss: 0.7692 - val_accuracy: 0.8600\n",
            "Epoch 101/150\n",
            "700/700 [==============================] - 4s 6ms/step - loss: 9.3605e-05 - accuracy: 1.0000 - val_loss: 0.6967 - val_accuracy: 0.8767\n",
            "Epoch 102/150\n",
            "700/700 [==============================] - 4s 6ms/step - loss: 9.4117e-05 - accuracy: 1.0000 - val_loss: 0.6732 - val_accuracy: 0.8933\n",
            "Epoch 103/150\n",
            "700/700 [==============================] - 4s 6ms/step - loss: 7.7215e-05 - accuracy: 1.0000 - val_loss: 0.7112 - val_accuracy: 0.8867\n",
            "Epoch 104/150\n",
            "700/700 [==============================] - 4s 6ms/step - loss: 9.1940e-05 - accuracy: 1.0000 - val_loss: 0.8399 - val_accuracy: 0.8633\n",
            "Epoch 105/150\n",
            "700/700 [==============================] - 4s 6ms/step - loss: 7.7733e-05 - accuracy: 1.0000 - val_loss: 0.8443 - val_accuracy: 0.8633\n",
            "Epoch 106/150\n",
            "700/700 [==============================] - 4s 6ms/step - loss: 1.0228e-04 - accuracy: 1.0000 - val_loss: 0.7232 - val_accuracy: 0.8833\n",
            "Epoch 107/150\n",
            "700/700 [==============================] - 4s 6ms/step - loss: 6.7383e-05 - accuracy: 1.0000 - val_loss: 0.7167 - val_accuracy: 0.8833\n",
            "Epoch 108/150\n",
            "700/700 [==============================] - 4s 6ms/step - loss: 9.1918e-05 - accuracy: 1.0000 - val_loss: 0.6865 - val_accuracy: 0.8967\n",
            "Epoch 109/150\n",
            "700/700 [==============================] - 4s 6ms/step - loss: 8.5660e-05 - accuracy: 1.0000 - val_loss: 0.8383 - val_accuracy: 0.8633\n",
            "Epoch 110/150\n",
            "700/700 [==============================] - 4s 6ms/step - loss: 9.4746e-05 - accuracy: 1.0000 - val_loss: 0.8739 - val_accuracy: 0.8633\n",
            "Epoch 111/150\n",
            "700/700 [==============================] - 4s 6ms/step - loss: 7.6049e-05 - accuracy: 1.0000 - val_loss: 0.7972 - val_accuracy: 0.8767\n",
            "Epoch 112/150\n",
            "700/700 [==============================] - 4s 6ms/step - loss: 1.0755e-04 - accuracy: 1.0000 - val_loss: 0.6320 - val_accuracy: 0.9000\n",
            "Epoch 113/150\n",
            "700/700 [==============================] - 4s 6ms/step - loss: 6.4102e-05 - accuracy: 1.0000 - val_loss: 0.6307 - val_accuracy: 0.8967\n",
            "Epoch 114/150\n",
            "700/700 [==============================] - 4s 6ms/step - loss: 7.4586e-05 - accuracy: 1.0000 - val_loss: 0.6572 - val_accuracy: 0.9000\n",
            "Epoch 115/150\n",
            "700/700 [==============================] - 4s 6ms/step - loss: 7.3018e-05 - accuracy: 1.0000 - val_loss: 0.6667 - val_accuracy: 0.9000\n",
            "Epoch 116/150\n",
            "700/700 [==============================] - 4s 6ms/step - loss: 6.3257e-05 - accuracy: 1.0000 - val_loss: 0.6622 - val_accuracy: 0.9033\n",
            "Epoch 117/150\n",
            "700/700 [==============================] - 4s 6ms/step - loss: 7.9445e-05 - accuracy: 1.0000 - val_loss: 0.6826 - val_accuracy: 0.9000\n",
            "Epoch 118/150\n",
            "700/700 [==============================] - 4s 6ms/step - loss: 8.7238e-05 - accuracy: 1.0000 - val_loss: 0.7276 - val_accuracy: 0.8767\n",
            "Epoch 119/150\n",
            "700/700 [==============================] - 4s 6ms/step - loss: 6.7859e-05 - accuracy: 1.0000 - val_loss: 0.7207 - val_accuracy: 0.8933\n",
            "Epoch 120/150\n",
            "700/700 [==============================] - 4s 6ms/step - loss: 7.4964e-05 - accuracy: 1.0000 - val_loss: 0.7244 - val_accuracy: 0.8900\n",
            "Epoch 121/150\n",
            "700/700 [==============================] - 4s 6ms/step - loss: 6.3158e-05 - accuracy: 1.0000 - val_loss: 0.7612 - val_accuracy: 0.8767\n",
            "Epoch 122/150\n",
            "700/700 [==============================] - 4s 6ms/step - loss: 5.7960e-05 - accuracy: 1.0000 - val_loss: 0.7669 - val_accuracy: 0.8833\n",
            "Epoch 123/150\n",
            "700/700 [==============================] - 4s 6ms/step - loss: 5.0326e-05 - accuracy: 1.0000 - val_loss: 0.7537 - val_accuracy: 0.8867\n",
            "Epoch 124/150\n",
            "700/700 [==============================] - 4s 6ms/step - loss: 5.2928e-05 - accuracy: 1.0000 - val_loss: 0.7752 - val_accuracy: 0.8833\n",
            "Epoch 125/150\n",
            "700/700 [==============================] - 4s 6ms/step - loss: 5.6569e-05 - accuracy: 1.0000 - val_loss: 0.7813 - val_accuracy: 0.8867\n",
            "Epoch 126/150\n",
            "700/700 [==============================] - 4s 6ms/step - loss: 4.7963e-05 - accuracy: 1.0000 - val_loss: 0.7818 - val_accuracy: 0.8833\n",
            "Epoch 127/150\n",
            "700/700 [==============================] - 4s 6ms/step - loss: 5.3173e-05 - accuracy: 1.0000 - val_loss: 0.8497 - val_accuracy: 0.8700\n",
            "Epoch 128/150\n",
            "700/700 [==============================] - 4s 6ms/step - loss: 5.0262e-05 - accuracy: 1.0000 - val_loss: 1.0086 - val_accuracy: 0.8600\n",
            "Epoch 129/150\n",
            "700/700 [==============================] - 4s 6ms/step - loss: 5.6045e-05 - accuracy: 1.0000 - val_loss: 1.0383 - val_accuracy: 0.8500\n",
            "Epoch 130/150\n",
            "700/700 [==============================] - 4s 6ms/step - loss: 5.1968e-05 - accuracy: 1.0000 - val_loss: 0.8869 - val_accuracy: 0.8700\n",
            "Epoch 131/150\n",
            "700/700 [==============================] - 4s 6ms/step - loss: 5.2650e-05 - accuracy: 1.0000 - val_loss: 0.7365 - val_accuracy: 0.8833\n",
            "Epoch 132/150\n",
            "700/700 [==============================] - 4s 6ms/step - loss: 4.5894e-05 - accuracy: 1.0000 - val_loss: 0.7340 - val_accuracy: 0.8800\n",
            "Epoch 133/150\n",
            "700/700 [==============================] - 4s 6ms/step - loss: 4.9694e-05 - accuracy: 1.0000 - val_loss: 0.7268 - val_accuracy: 0.8867\n",
            "Epoch 134/150\n",
            "700/700 [==============================] - 4s 6ms/step - loss: 4.9055e-05 - accuracy: 1.0000 - val_loss: 0.7788 - val_accuracy: 0.8767\n",
            "Epoch 135/150\n",
            "700/700 [==============================] - 4s 6ms/step - loss: 4.6825e-05 - accuracy: 1.0000 - val_loss: 0.8263 - val_accuracy: 0.8733\n",
            "Epoch 136/150\n",
            "700/700 [==============================] - 4s 6ms/step - loss: 5.6385e-05 - accuracy: 1.0000 - val_loss: 0.7870 - val_accuracy: 0.8767\n",
            "Epoch 137/150\n",
            "700/700 [==============================] - 4s 6ms/step - loss: 4.0003e-05 - accuracy: 1.0000 - val_loss: 0.7749 - val_accuracy: 0.8800\n",
            "Epoch 138/150\n",
            "700/700 [==============================] - 4s 6ms/step - loss: 6.5001e-05 - accuracy: 1.0000 - val_loss: 0.8435 - val_accuracy: 0.8700\n",
            "Epoch 139/150\n",
            "700/700 [==============================] - 4s 6ms/step - loss: 5.7020e-05 - accuracy: 1.0000 - val_loss: 0.9987 - val_accuracy: 0.8567\n",
            "Epoch 140/150\n",
            "700/700 [==============================] - 4s 6ms/step - loss: 4.4508e-05 - accuracy: 1.0000 - val_loss: 1.2901 - val_accuracy: 0.8100\n",
            "Epoch 141/150\n",
            "700/700 [==============================] - 4s 6ms/step - loss: 3.8827e-05 - accuracy: 1.0000 - val_loss: 1.0841 - val_accuracy: 0.8367\n",
            "Epoch 142/150\n",
            "700/700 [==============================] - 4s 6ms/step - loss: 4.0286e-05 - accuracy: 1.0000 - val_loss: 1.0630 - val_accuracy: 0.8433\n",
            "Epoch 143/150\n",
            "700/700 [==============================] - 4s 6ms/step - loss: 4.0238e-05 - accuracy: 1.0000 - val_loss: 1.0008 - val_accuracy: 0.8467\n",
            "Epoch 144/150\n",
            "700/700 [==============================] - 4s 5ms/step - loss: 4.2838e-05 - accuracy: 1.0000 - val_loss: 0.7693 - val_accuracy: 0.8833\n",
            "Epoch 145/150\n",
            "700/700 [==============================] - 4s 6ms/step - loss: 3.3237e-05 - accuracy: 1.0000 - val_loss: 0.7668 - val_accuracy: 0.8867\n",
            "Epoch 146/150\n",
            "700/700 [==============================] - 4s 6ms/step - loss: 4.4785e-05 - accuracy: 1.0000 - val_loss: 0.8177 - val_accuracy: 0.8767\n",
            "Epoch 147/150\n",
            "700/700 [==============================] - 4s 6ms/step - loss: 3.3511e-05 - accuracy: 1.0000 - val_loss: 0.8151 - val_accuracy: 0.8733\n",
            "Epoch 148/150\n",
            "700/700 [==============================] - 4s 6ms/step - loss: 3.2979e-05 - accuracy: 1.0000 - val_loss: 0.8713 - val_accuracy: 0.8667\n",
            "Epoch 149/150\n",
            "700/700 [==============================] - 4s 5ms/step - loss: 3.5022e-05 - accuracy: 1.0000 - val_loss: 0.9045 - val_accuracy: 0.8667\n",
            "Epoch 150/150\n",
            "700/700 [==============================] - 4s 6ms/step - loss: 3.0399e-05 - accuracy: 1.0000 - val_loss: 0.8513 - val_accuracy: 0.8700\n"
          ],
          "name": "stdout"
        }
      ]
    },
    {
      "cell_type": "code",
      "metadata": {
        "id": "k-Y_rzRr2izn",
        "colab_type": "code",
        "colab": {
          "base_uri": "https://localhost:8080/",
          "height": 611
        },
        "outputId": "e3a9e005-0e3e-484c-8064-42e91a7696bf"
      },
      "source": [
        "evaluate_model(history,X_test,y_test,model)\n",
        "y_pred=model.predict(X_test)"
      ],
      "execution_count": 17,
      "outputs": [
        {
          "output_type": "stream",
          "text": [
            "Accuracy: 87.00%\n",
            "<keras.callbacks.callbacks.History object at 0x7f496d0cbef0>\n"
          ],
          "name": "stdout"
        },
        {
          "output_type": "display_data",
          "data": {
            "image/png": "[encoded data removed]",
            "text/plain": [
              "<Figure size 432x288 with 1 Axes>"
            ]
          },
          "metadata": {
            "tags": [],
            "needs_background": "light"
          }
        },
        {
          "output_type": "display_data",
          "data": {
            "image/png": "[encoded data removed]",
            "text/plain": [
              "<Figure size 432x288 with 1 Axes>"
            ]
          },
          "metadata": {
            "tags": [],
            "needs_background": "light"
          }
        }
      ]
    },
    {
      "cell_type": "code",
      "metadata": {
        "id": "kgUFr7tkMoI0",
        "colab_type": "code",
        "colab": {}
      },
      "source": [
        ""
      ],
      "execution_count": 0,
      "outputs": []
    },
    {
      "cell_type": "markdown",
      "metadata": {
        "id": "ikYp10GlDhnp",
        "colab_type": "text"
      },
      "source": [
        "**Resultados de Precision, recall e f1-score**"
      ]
    },
    {
      "cell_type": "code",
      "metadata": {
        "id": "qekWEhQuC9XH",
        "colab_type": "code",
        "colab": {
          "base_uri": "https://localhost:8080/",
          "height": 462
        },
        "outputId": "dd6ff894-4e53-45a6-d0a2-09ee5cd871bd"
      },
      "source": [
        "print(classification_report(y_test.argmax(axis=1), y_pred.argmax(axis=1)))"
      ],
      "execution_count": 18,
      "outputs": [
        {
          "output_type": "stream",
          "text": [
            "              precision    recall  f1-score   support\n",
            "\n",
            "           0       0.79      0.98      0.87        84\n",
            "           1       1.00      0.58      0.73        26\n",
            "           2       1.00      0.78      0.88         9\n",
            "           3       0.91      0.91      0.91        32\n",
            "           4       0.00      0.00      0.00         2\n",
            "           5       0.83      0.91      0.87        11\n",
            "           6       0.82      0.80      0.81        41\n",
            "           7       0.76      0.93      0.84        14\n",
            "           8       1.00      1.00      1.00         3\n",
            "           9       1.00      0.50      0.67         2\n",
            "          10       1.00      1.00      1.00         2\n",
            "          11       1.00      0.67      0.80         3\n",
            "          13       0.97      0.97      0.97        29\n",
            "          14       1.00      0.75      0.86        24\n",
            "          15       1.00      1.00      1.00         4\n",
            "          16       1.00      1.00      1.00        14\n",
            "\n",
            "    accuracy                           0.87       300\n",
            "   macro avg       0.88      0.80      0.82       300\n",
            "weighted avg       0.88      0.87      0.86       300\n",
            "\n"
          ],
          "name": "stdout"
        },
        {
          "output_type": "stream",
          "text": [
            "/usr/local/lib/python3.6/dist-packages/sklearn/metrics/_classification.py:1272: UndefinedMetricWarning: Precision and F-score are ill-defined and being set to 0.0 in labels with no predicted samples. Use `zero_division` parameter to control this behavior.\n",
            "  _warn_prf(average, modifier, msg_start, len(result))\n"
          ],
          "name": "stderr"
        }
      ]
    },
    {
      "cell_type": "code",
      "metadata": {
        "id": "BBHl7yG06M4N",
        "colab_type": "code",
        "colab": {
          "base_uri": "https://localhost:8080/",
          "height": 746
        },
        "outputId": "21b134ca-baef-4356-fec3-e6461c8ecb1b"
      },
      "source": [
        "\n",
        "\n",
        "def plot_confusion_matrix(cm, classes,\n",
        "                          normalize=False,\n",
        "                          title='Confusion matrix',\n",
        "                          cmap=plt.cm.Blues):\n",
        "    \"\"\"\n",
        "    This function prints and plots the confusion matrix.\n",
        "    Normalization can be applied by setting `normalize=True`.\n",
        "    \"\"\"\n",
        "    if normalize:\n",
        "        cm = cm.astype('float') / cm.sum(axis=1)[:, np.newaxis]\n",
        "        print(\"Matriz de confusão normalizada\")\n",
        "    else:\n",
        "        print('Matriz de confusão, sem normalização')\n",
        "\n",
        "    plt.imshow(cm, interpolation='nearest', cmap=cmap)\n",
        "    plt.title(title)\n",
        "    plt.colorbar()\n",
        "    tick_marks = np.arange(len(classes))\n",
        "    plt.xticks(tick_marks, classes, rotation=45)\n",
        "    plt.yticks(tick_marks, classes)\n",
        "\n",
        "    fmt = '.2f' if normalize else 'd'\n",
        "    thresh = cm.max() / 2.\n",
        "    for i, j in itertools.product(range(cm.shape[0]), range(cm.shape[1])):\n",
        "        plt.text(j, i, format(cm[i, j], fmt),\n",
        "                 horizontalalignment=\"center\",\n",
        "                 color=\"white\" if cm[i, j] > thresh else \"black\")\n",
        "\n",
        "    plt.tight_layout()\n",
        "    plt.ylabel('Rótulo Verdadeiro')\n",
        "    plt.xlabel('Rótulo Predito')\n",
        "\n",
        "# Compute confusion matrix\n",
        "cnf_matrix = confusion_matrix(y_test.argmax(axis=1), y_pred.argmax(axis=1))\n",
        "np.set_printoptions(precision=2)\n",
        "\n",
        "# Plot non-normalized confusion matrix\n",
        "plt.figure(figsize=(10, 10))\n",
        "plot_confusion_matrix(cnf_matrix, classes=['1', '2', '3', '4', '5','6', '7', '8', '9', '10','11','12', '13', '14', '15', '16','17'],normalize=True,\n",
        "                      title='Matriz de confusão, com normalização')\n",
        "plt.show()"
      ],
      "execution_count": 19,
      "outputs": [
        {
          "output_type": "stream",
          "text": [
            "Matriz de confusão normalizada\n"
          ],
          "name": "stdout"
        },
        {
          "output_type": "display_data",
          "data": {
            "image/png": "[encoded data removed]",
            "text/plain": [
              "<Figure size 720x720 with 2 Axes>"
            ]
          },
          "metadata": {
            "tags": [],
            "needs_background": "light"
          }
        }
      ]
    },
    {
      "cell_type": "code",
      "metadata": {
        "id": "0gqQDr2UOxuZ",
        "colab_type": "code",
        "colab": {
          "base_uri": "https://localhost:8080/",
          "height": 746
        },
        "outputId": "6daf6a25-81d2-4100-e2dd-3093529a66ce"
      },
      "source": [
        "def plot_confusion_matrix(cm, classes,\n",
        "                          normalize=False,\n",
        "                          title='Confusion matrix',\n",
        "                          cmap=plt.cm.Blues):\n",
        "    \"\"\"\n",
        "    This function prints and plots the confusion matrix.\n",
        "    Normalization can be applied by setting `normalize=True`.\n",
        "    \"\"\"\n",
        "    if normalize:\n",
        "        cm = cm.astype('float') / cm.sum(axis=1)[:, np.newaxis]\n",
        "        print(\"Matriz de confusão normalizada\")\n",
        "    else:\n",
        "        print('Matriz de confusão, sem normalização')\n",
        "\n",
        "    plt.imshow(cm, interpolation='nearest', cmap=cmap)\n",
        "    plt.title(title)\n",
        "    plt.colorbar()\n",
        "    tick_marks = np.arange(len(classes))\n",
        "    plt.xticks(tick_marks, classes, rotation=45)\n",
        "    plt.yticks(tick_marks, classes)\n",
        "    \n",
        "    fmt = '.2f' if normalize else 'd'\n",
        "    thresh = cm.max() / 2.\n",
        "    for i, j in itertools.product(range(cm.shape[0]), range(cm.shape[1])):\n",
        "        plt.text(j, i, format(cm[i, j], fmt),\n",
        "                 horizontalalignment=\"center\",\n",
        "                 color=\"white\" if cm[i, j] > thresh else \"black\")\n",
        "\n",
        "    plt.tight_layout()\n",
        "    plt.ylabel('Rótulo verdadeiro')\n",
        "    plt.xlabel('Rótulo predito')\n",
        "    plt.savefig(root_path+\"/\"+\"tarefa_lcc/matriz.png\", format='png')\n",
        "# Compute confusion matrix\n",
        "cnf_matrix = confusion_matrix(y_test.argmax(axis=1), y_pred.argmax(axis=1))\n",
        "np.set_printoptions(precision=2)\n",
        "\n",
        "# Plot non-normalized confusion matrix\n",
        "plt.figure(figsize=(10, 10))\n",
        "plot_confusion_matrix(cnf_matrix, classes=['1', '2', '3', '4', '5','6', '7', '8', '9', '10','11','12', '13', '14', '15', '16','17'],\n",
        "                      title='Confusion matrix, without normalization')\n",
        "plt.show()"
      ],
      "execution_count": 29,
      "outputs": [
        {
          "output_type": "stream",
          "text": [
            "Matriz de confusão, sem normalização\n"
          ],
          "name": "stdout"
        },
        {
          "output_type": "display_data",
          "data": {
            "image/png": "[encoded data removed]",
            "text/plain": [
              "<Figure size 720x720 with 2 Axes>"
            ]
          },
          "metadata": {
            "tags": [],
            "needs_background": "light"
          }
        }
      ]
    }
  ]
}